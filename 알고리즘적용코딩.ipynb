{
 "cells": [
  {
   "cell_type": "code",
   "execution_count": 14,
   "metadata": {},
   "outputs": [
    {
     "name": "stdout",
     "output_type": "stream",
     "text": [
      "x :7\n"
     ]
    },
    {
     "data": {
      "text/plain": [
       "27.712812921102035"
      ]
     },
     "execution_count": 14,
     "metadata": {},
     "output_type": "execute_result"
    }
   ],
   "source": [
    "# 프로그래밍 예제 01\n",
    "\n",
    "x = int(input('x :'))\n",
    "\n",
    "def y(i) :\n",
    "    y = ((i-1)*((i-3)**2)*((i-5)**3))**0.5\n",
    "    return y\n",
    "\n",
    "y(x)"
   ]
  },
  {
   "cell_type": "code",
   "execution_count": 17,
   "metadata": {
    "scrolled": true
   },
   "outputs": [
    {
     "name": "stdout",
     "output_type": "stream",
     "text": [
      "5\n",
      "5\n",
      "False\n"
     ]
    }
   ],
   "source": [
    "# 프로그래밍 예제 02\n",
    "\n",
    "x = int(input())\n",
    "y = int(input())\n",
    "\n",
    "if 10**5 <= x**y <= 10**10 :\n",
    "    print('True')\n",
    "else :\n",
    "    print('False')\n",
    "        "
   ]
  },
  {
   "cell_type": "code",
   "execution_count": 24,
   "metadata": {},
   "outputs": [
    {
     "name": "stdout",
     "output_type": "stream",
     "text": [
      "10\n",
      "4\n",
      "5040\n",
      "210.0\n"
     ]
    }
   ],
   "source": [
    "# 프로그래밍 예제 03\n",
    "\n",
    "n = int(input())\n",
    "m = int(input())\n",
    "\n",
    "def fac(n) :\n",
    "    ans = 1\n",
    "    if n == 0 : \n",
    "        return 1 \n",
    "    else : \n",
    "        for i in range(n-m+1, n + 1) : \n",
    "            ans = ans * i \n",
    "        return ans\n",
    "    \n",
    "\n",
    "print(fac(n)/fac(m))"
   ]
  },
  {
   "cell_type": "code",
   "execution_count": 29,
   "metadata": {},
   "outputs": [
    {
     "name": "stdout",
     "output_type": "stream",
     "text": [
      "5\n",
      "1\n",
      "2\n",
      "3\n",
      "4\n"
     ]
    }
   ],
   "source": [
    "# 프로그래밍 예제 04\n",
    "\n",
    "N = int(input())\n",
    "\n",
    "for i in range(1, N) :\n",
    "    print(1)\n",
    "    for\n",
    "    if i == N :\n",
    "        break\n",
    "    print(i)\n",
    "    \n",
    "   "
   ]
  },
  {
   "cell_type": "code",
   "execution_count": null,
   "metadata": {},
   "outputs": [],
   "source": []
  }
 ],
 "metadata": {
  "kernelspec": {
   "display_name": "Python 3",
   "language": "python",
   "name": "python3"
  },
  "language_info": {
   "codemirror_mode": {
    "name": "ipython",
    "version": 3
   },
   "file_extension": ".py",
   "mimetype": "text/x-python",
   "name": "python",
   "nbconvert_exporter": "python",
   "pygments_lexer": "ipython3",
   "version": "3.7.6"
  }
 },
 "nbformat": 4,
 "nbformat_minor": 4
}
